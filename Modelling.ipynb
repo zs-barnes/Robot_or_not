{
 "cells": [
  {
   "cell_type": "markdown",
   "metadata": {},
   "source": [
    "# Detecting Robots among Humans"
   ]
  },
  {
   "cell_type": "markdown",
   "metadata": {},
   "source": [
    "## Group Name: LGTM"
   ]
  },
  {
   "cell_type": "markdown",
   "metadata": {},
   "source": [
    "## Student Names"
   ]
  },
  {
   "cell_type": "markdown",
   "metadata": {},
   "source": [
    "- Maxine Liu\n",
    "- Roja Immanni\n",
    "- Zachary Barnes"
   ]
  },
  {
   "cell_type": "markdown",
   "metadata": {},
   "source": [
    "# Ask"
   ]
  },
  {
   "cell_type": "markdown",
   "metadata": {},
   "source": [
    "Which classification algorithm can learn to best predict Robots among Humans?"
   ]
  },
  {
   "cell_type": "markdown",
   "metadata": {},
   "source": [
    "# Acquire"
   ]
  },
  {
   "cell_type": "markdown",
   "metadata": {},
   "source": [
    "The data is obtained from here: https://www.kaggle.com/c/facebook-recruiting-iv-human-or-bot"
   ]
  },
  {
   "cell_type": "markdown",
   "metadata": {},
   "source": [
    "### Load the required libraries"
   ]
  },
  {
   "cell_type": "code",
   "execution_count": 1,
   "metadata": {},
   "outputs": [],
   "source": [
    "# for Data Manipulations\n",
    "import pandas as pd\n",
    "import numpy as np\n",
    "\n",
    "# For modelling\n",
    "from sklearn.model_selection import train_test_split\n",
    "from sklearn.ensemble import RandomForestClassifier\n",
    "from sklearn.metrics import confusion_matrix, accuracy_score, recall_score, classification_report, \\\n",
    "roc_auc_score, f1_score\n",
    "import imblearn\n",
    "from sklearn.pipeline import Pipeline\n",
    "from sklearn.preprocessing import StandardScaler, Normalizer, Imputer\n",
    "from sklearn.decomposition import PCA\n",
    "from sklearn.model_selection import RandomizedSearchCV, KFold\n",
    "from rfpimp import *\n",
    "from sklearn.linear_model import LinearRegression, LogisticRegression, Lasso, Ridge\n",
    "from sklearn.neighbors import KNeighborsClassifier\n",
    "from sklearn.naive_bayes import GaussianNB\n",
    "from sklearn.svm import SVC\n",
    "\n",
    "# For plotting\n",
    "from plotly.subplots import make_subplots\n",
    "import plotly.express as px\n",
    "import plotly.graph_objects as go\n",
    "import matplotlib\n",
    "import matplotlib.pyplot as plt\n",
    "import seaborn as sns\n",
    "import statsmodels.api as sm\n",
    "\n",
    "import warnings\n",
    "warnings.filterwarnings('ignore')"
   ]
  },
  {
   "cell_type": "markdown",
   "metadata": {},
   "source": [
    "### Load the datasets"
   ]
  },
  {
   "cell_type": "code",
   "execution_count": 2,
   "metadata": {},
   "outputs": [
    {
     "name": "stdout",
     "output_type": "stream",
     "text": [
      "CPU times: user 15.8 s, sys: 5.75 s, total: 21.5 s\n",
      "Wall time: 6min 45s\n"
     ]
    }
   ],
   "source": [
    "%%time\n",
    "logs = pd.read_csv('https://facebookbids.s3.us-east-2.amazonaws.com/bids.csv')\n",
    "users = pd.read_csv('https://raw.githubusercontent.com/zs-barnes/Robot_or_not/master/data/train.csv',\n",
    "                    error_bad_lines=False)"
   ]
  },
  {
   "cell_type": "markdown",
   "metadata": {},
   "source": [
    "# Process"
   ]
  },
  {
   "cell_type": "markdown",
   "metadata": {},
   "source": [
    "### Feature Hypothesis"
   ]
  },
  {
   "cell_type": "markdown",
   "metadata": {},
   "source": [
    "As there are no direct features derived for the data, we came up with a list of features based on the problem context. \n",
    "\n",
    "Following is the list:"
   ]
  },
  {
   "cell_type": "markdown",
   "metadata": {},
   "source": [
    "- Total Bid count\n",
    "- Total Auctions\n",
    "- Average bids per auction\n",
    "- Average time-gap between bids per auction\n",
    "- Minimum time-gap between bids per auction\n",
    "- Merchandise Type\n",
    "- Unique devices\n",
    "- Avergae bids per Device\n",
    "- Average bids per Country\n",
    "- Avergae bids per IP\n",
    "- Average bids per URL\n",
    "- Unique countries\n",
    "- Unique Ips\n",
    "- Distinct Ips per auction\n",
    "- Distinct Countries per auction\n",
    "- Distinct Devices per auction"
   ]
  },
  {
   "cell_type": "markdown",
   "metadata": {},
   "source": [
    "### Extract the feature hypothesis from the logs data"
   ]
  },
  {
   "cell_type": "code",
   "execution_count": 3,
   "metadata": {},
   "outputs": [],
   "source": [
    "def prepare_data(data):\n",
    "    \n",
    "    \"\"\"\n",
    "    Returns the data by extracting required features from the corresponding logs data\n",
    "    \n",
    "    Input: Users data for which the features need to be extracted from the logs data\n",
    "    output: Users data with important features\n",
    "    \"\"\"\n",
    "    \n",
    "    data = pd.merge(data, logs, on='bidder_id', how='left')\n",
    "    \n",
    "    \n",
    "    # Derive categorical features based on whether a user ever bid for certain categories\n",
    "    data.loc[(data.merchandise.isin(['auto parts','clothing','furniture'])),'merchandise_flag'] =1\n",
    "    data['merchandise_flag'].fillna(0, inplace=True)\n",
    "    \n",
    "    data = data.groupby(['bidder_id','outcome']).agg({'bid_id':'count', 'auction':'nunique',\n",
    "                                                          'device':'nunique', 'ip':'nunique',\n",
    "                                                          'url':'nunique','country':'nunique',\n",
    "                                                         'merchandise_flag':'mean'}).reset_index()\n",
    "    \n",
    "    \n",
    "    # Replaceing all the NA values with zero becuase in this case NA means user never involved in that certain \n",
    "    # bid. Hence zero\n",
    "    data.loc[(data.auction!=0),'bids_per_auction'] = data.loc[\n",
    "        (data.auction!=0),'bid_id']/data.loc[(data.auction!=0),'auction'] \n",
    "    data['bids_per_auction'].fillna(0, inplace=True)\n",
    "\n",
    "    data.loc[(data.device!=0),'bids_per_device'] = data.loc[\n",
    "        (data.device!=0),'bid_id']/data.loc[(data.device!=0),'device'] \n",
    "    data['bids_per_device'].fillna(0, inplace=True)\n",
    "\n",
    "    data.loc[(data.ip!=0),'bids_per_ip'] = data.loc[\n",
    "        (data.ip!=0),'bid_id']/data.loc[(data.ip!=0),'ip'] \n",
    "    data['bids_per_ip'].fillna(0, inplace=True)\n",
    "\n",
    "    data.loc[(data.url!=0),'bids_per_url'] = data.loc[\n",
    "        (data.url!=0),'bid_id']/data.loc[(data.url!=0),'url'] \n",
    "    data['bids_per_url'].fillna(0, inplace=True)\n",
    "\n",
    "    data.loc[(data.country!=0),'bids_per_country'] = data.loc[\n",
    "        (data.country!=0),'bid_id']/data.loc[(data.country!=0),'country'] \n",
    "    data['bids_per_country'].fillna(0, inplace=True)\n",
    "    \n",
    "    data.loc[(data.auction!=0),'ips_per_auction'] = data.loc[\n",
    "        (data.auction!=0),'ip']/data.loc[(data.auction!=0),'auction'] \n",
    "    data['ips_per_auction'].fillna(0, inplace=True)\n",
    "\n",
    "    data.loc[(data.auction!=0),'countries_per_auction'] = data.loc[\n",
    "        (data.auction!=0),'country']/data.loc[(data.auction!=0),'auction'] \n",
    "    data['countries_per_auction'].fillna(0, inplace=True)\n",
    "    \n",
    "    data.pop('bidder_id')\n",
    "    \n",
    "    return data"
   ]
  },
  {
   "cell_type": "code",
   "execution_count": 4,
   "metadata": {},
   "outputs": [],
   "source": [
    "users_X = prepare_data(users)"
   ]
  },
  {
   "cell_type": "markdown",
   "metadata": {},
   "source": [
    "## Missing values overview"
   ]
  },
  {
   "cell_type": "code",
   "execution_count": 5,
   "metadata": {},
   "outputs": [
    {
     "data": {
      "text/plain": [
       "outcome                  0.0\n",
       "bid_id                   0.0\n",
       "auction                  0.0\n",
       "device                   0.0\n",
       "ip                       0.0\n",
       "url                      0.0\n",
       "country                  0.0\n",
       "merchandise_flag         0.0\n",
       "bids_per_auction         0.0\n",
       "bids_per_device          0.0\n",
       "bids_per_ip              0.0\n",
       "bids_per_url             0.0\n",
       "bids_per_country         0.0\n",
       "ips_per_auction          0.0\n",
       "countries_per_auction    0.0\n",
       "dtype: float64"
      ]
     },
     "execution_count": 5,
     "metadata": {},
     "output_type": "execute_result"
    }
   ],
   "source": [
    "users_X.isnull().sum()/len(users_X)*100"
   ]
  },
  {
   "cell_type": "markdown",
   "metadata": {},
   "source": [
    "We do not have any missing data"
   ]
  },
  {
   "cell_type": "markdown",
   "metadata": {},
   "source": [
    "# Model"
   ]
  },
  {
   "cell_type": "markdown",
   "metadata": {},
   "source": [
    "### Evaluation Metric"
   ]
  },
  {
   "cell_type": "markdown",
   "metadata": {},
   "source": [
    "We have an unbalanced data. Hence we are choosing the metrics that are best on unbalanced datasets and with a capability to measure the separability between the classes. So our options are f1_weighted_score and roc_auc_score. Our North Star metric is weighted f1_score because of its ease of interpretability on imbalanced datasets"
   ]
  },
  {
   "cell_type": "markdown",
   "metadata": {},
   "source": [
    "### Baseline Model: Logistic Regression"
   ]
  },
  {
   "cell_type": "markdown",
   "metadata": {},
   "source": [
    "#### Balanced Train-Test split"
   ]
  },
  {
   "cell_type": "code",
   "execution_count": 6,
   "metadata": {},
   "outputs": [],
   "source": [
    "def class_balance_split(X, test_size=0.2):\n",
    "    \"\"\"\n",
    "    Given the entire data, this function splits the data into test and valid, maintaining a balanced split\n",
    "    across the classes\n",
    "    \n",
    "    Input: Total training data and test_size\n",
    "    Output: Train and test dataframes for X and y\n",
    "    \"\"\"\n",
    "\n",
    "    robots = X.loc[X.outcome==1]\n",
    "    humans = X.loc[X.outcome==0]\n",
    "\n",
    "    robots_train, robots_valid = train_test_split(robots, test_size=test_size)\n",
    "    humans_train, humans_valid = train_test_split(humans, test_size=test_size)\n",
    "\n",
    "    df_train = pd.concat([robots_train, humans_train], axis=0)\n",
    "    df_valid  = pd.concat([humans_valid, robots_valid], axis=0)\n",
    "\n",
    "    X_train = df_train\n",
    "    y_train = df_train['outcome']\n",
    "    X_train.pop('outcome')\n",
    "\n",
    "    X_valid = df_valid\n",
    "    y_valid = df_valid['outcome']\n",
    "    X_valid.pop('outcome')\n",
    "    \n",
    "    return X_train, X_valid, y_train, y_valid"
   ]
  },
  {
   "cell_type": "code",
   "execution_count": 7,
   "metadata": {},
   "outputs": [],
   "source": [
    "X_train, X_valid, y_train, y_valid = class_balance_split(users_X, test_size=0.2)"
   ]
  },
  {
   "cell_type": "markdown",
   "metadata": {},
   "source": [
    "#### Balancing the classes using SMOTE"
   ]
  },
  {
   "cell_type": "code",
   "execution_count": 8,
   "metadata": {},
   "outputs": [],
   "source": [
    "rebalance_instance = imblearn.over_sampling.SMOTE()\n",
    "X_train_smote, y_train_smote = rebalance_instance.fit_sample(X_train, y_train)"
   ]
  },
  {
   "cell_type": "markdown",
   "metadata": {},
   "source": [
    "#### Pipelines"
   ]
  },
  {
   "cell_type": "code",
   "execution_count": 9,
   "metadata": {},
   "outputs": [],
   "source": [
    "def make_pipelines():\n",
    "    \"\"\"\n",
    "    Creates pipeline for each of the following algorithms:\n",
    "    1. Logistic Regression\n",
    "    2. K-nearest Neighbors Regressor\n",
    "    3. Naive Bayes\n",
    "    4. Support Vector Machines\n",
    "    5. Random Forest\n",
    "    If appropriate, apply Normalizer before the algorithm.\n",
    "    Use default hyperparameters.\n",
    "    Input: None\n",
    "    Output: A list of all the pipelines.\n",
    "    \"\"\"\n",
    "    \n",
    "    pipe_clf = Pipeline([\n",
    "                         ('norm', Normalizer()),\n",
    "                         ('clf', LogisticRegression(solver='lbfgs'))])\n",
    "    pipe_knn = Pipeline([('norm', Normalizer()),\n",
    "                         ('knn', KNeighborsClassifier())])\n",
    "    pipe_gnb = Pipeline([('gnb', GaussianNB())])\n",
    "    pipe_svm = Pipeline([('norm', Normalizer()),\n",
    "                         ('svc', SVC(probability=True))])\n",
    "    pipe_rf = Pipeline([('rf', RandomForestClassifier())])\n",
    "    \n",
    "    pipelines = [pipe_clf, pipe_knn, pipe_gnb, pipe_svm, pipe_rf]\n",
    "    \n",
    "    return pipelines"
   ]
  },
  {
   "cell_type": "markdown",
   "metadata": {},
   "source": [
    "#### Metrics on the validation data"
   ]
  },
  {
   "cell_type": "code",
   "execution_count": 10,
   "metadata": {},
   "outputs": [
    {
     "name": "stdout",
     "output_type": "stream",
     "text": [
      "\n",
      "For LogisticRegression    :\n",
      " f1_weighted_score:0.8644987879091255, roc_auc_score:0.8884318125155822\n",
      "\n",
      "For KNeighborsClassifier  :\n",
      " f1_weighted_score:0.8874563273995487, roc_auc_score:0.8669907753677386\n",
      "\n",
      "For GaussianNB            :\n",
      " f1_weighted_score:0.8945453063181494, roc_auc_score:0.8413113936674147\n",
      "\n",
      "For SVC                   :\n",
      " f1_weighted_score:0.8462533932364826, roc_auc_score:0.8855646970830217\n",
      "\n",
      "For RandomForestClassifier:\n",
      " f1_weighted_score:0.9421375734004425, roc_auc_score:0.9116803789578659\n"
     ]
    }
   ],
   "source": [
    "# Train all the models\n",
    "pipelines = make_pipelines()\n",
    "for pipe in pipelines:\n",
    "    pipe.fit(X_train_smote, y_train_smote)\n",
    "    \n",
    "for pipe in pipelines:\n",
    "    name = pipe.steps[-1][1].__class__.__name__.split('.')[-1]\n",
    "    preds = pipe.predict(X_valid)\n",
    "    f1 = f1_score(y_valid, preds, average='weighted')\n",
    "    probas = np.array([i[1] for i in pipe.predict_proba(X_valid)])\n",
    "    roc_auc = roc_auc_score(y_valid, probas)\n",
    "    print(f\"\\nFor {name:<22}:\\n f1_weighted_score:{f1}, roc_auc_score:{roc_auc}\")"
   ]
  },
  {
   "cell_type": "markdown",
   "metadata": {},
   "source": [
    "We have RandomForestClassifier as the best performing one"
   ]
  },
  {
   "cell_type": "markdown",
   "metadata": {},
   "source": [
    "### Hyper-parameter Tuning"
   ]
  },
  {
   "cell_type": "code",
   "execution_count": 11,
   "metadata": {},
   "outputs": [],
   "source": [
    "# Limit the number of folds and samples\n",
    "\n",
    "cv=5\n",
    "n_iter=30"
   ]
  },
  {
   "cell_type": "code",
   "execution_count": 12,
   "metadata": {},
   "outputs": [],
   "source": [
    "def make_random_cv():\n",
    "    \"\"\"\n",
    "    Steps:\n",
    "    1. Define Estimator\n",
    "    2. Define hyperparameter search space\n",
    "    3. Instantiate RandomizedSearchCV\n",
    "    \"\"\"\n",
    "    estimator = RandomForestClassifier(random_state=2)\n",
    "    grid_params = dict(criterion=['gini', 'entropy'],\n",
    "                   n_estimators = [30, 50, 75, 100, 150, 200, 300, 500],\n",
    "                   min_samples_leaf = [1,2,3,4,5], max_features = [0.25, 0.3,0.35,0.4])\n",
    "\n",
    "    clf_random_cv = RandomizedSearchCV(estimator=estimator, \n",
    "                  param_distributions=grid_params,\n",
    "                  scoring='f1_weighted',\n",
    "                  cv=cv, n_iter=n_iter)\n",
    "\n",
    "    return clf_random_cv"
   ]
  },
  {
   "cell_type": "code",
   "execution_count": 13,
   "metadata": {},
   "outputs": [],
   "source": [
    "fit_cv = make_random_cv()"
   ]
  },
  {
   "cell_type": "code",
   "execution_count": 14,
   "metadata": {},
   "outputs": [
    {
     "name": "stdout",
     "output_type": "stream",
     "text": [
      "{'n_estimators': 100, 'min_samples_leaf': 1, 'max_features': 0.4, 'criterion': 'gini'}\n"
     ]
    }
   ],
   "source": [
    "fit_cv.fit(X=X_train_smote, y=y_train_smote)\n",
    "print(fit_cv.best_params_)"
   ]
  },
  {
   "cell_type": "code",
   "execution_count": 15,
   "metadata": {},
   "outputs": [
    {
     "data": {
      "text/plain": [
       "0.9447597203277801"
      ]
     },
     "execution_count": 15,
     "metadata": {},
     "output_type": "execute_result"
    }
   ],
   "source": [
    "fit_cv.score(X_valid, y_valid)"
   ]
  },
  {
   "cell_type": "markdown",
   "metadata": {},
   "source": [
    "### Model Interpretation"
   ]
  },
  {
   "cell_type": "code",
   "execution_count": 16,
   "metadata": {},
   "outputs": [],
   "source": [
    "final_model = RandomForestClassifier(n_estimators=100, min_samples_leaf=1, max_features=0.4, \n",
    "                                     criterion='gini', random_state=19).fit(X_train_smote, y_train_smote)"
   ]
  },
  {
   "cell_type": "code",
   "execution_count": 17,
   "metadata": {},
   "outputs": [
    {
     "data": {
      "image/png": "[encoded data removed]",
      "text/plain": [
       "<Figure size 288x223.2 with 1 Axes>"
      ]
     },
     "metadata": {
      "needs_background": "light"
     },
     "output_type": "display_data"
    }
   ],
   "source": [
    "imp = importances(final_model, X_valid, y_valid, n_samples=-1)\n",
    "viz = plot_importances(imp)\n",
    "viz.view()"
   ]
  },
  {
   "cell_type": "markdown",
   "metadata": {},
   "source": [
    "### 5-Fold Cross Validation"
   ]
  },
  {
   "cell_type": "code",
   "execution_count": 18,
   "metadata": {
    "code_folding": []
   },
   "outputs": [],
   "source": [
    "def k_fold_validation(n=5):\n",
    "    f1_scores = []\n",
    "    roc_auc_scores = []\n",
    "    rebalance_instance = imblearn.over_sampling.SMOTE()\n",
    "    for i in range(n):\n",
    "        final_model = RandomForestClassifier(n_estimators=200, min_samples_leaf=1, max_features=0.4, \n",
    "                                     criterion='entropy')\n",
    "        X_train, X_test, y_train, y_test = class_balance_split(users_X, test_size=0.2)\n",
    "        X_train_smote, y_train_smote = rebalance_instance.fit_sample(X_train, y_train)\n",
    "        final_model.fit(X_train_smote, y_train_smote)\n",
    "        y_pred = final_model.predict(X_test)\n",
    "        f1_scores.append(f1_score(y_test, y_pred,average='weighted'))\n",
    "        roc_auc_scores.append(roc_auc_score(y_test, y_pred))\n",
    "\n",
    "    print(f\"f1_scores: {f1_scores}\") \n",
    "    print(f\"roc_auc_scores: {roc_auc_scores}\") "
   ]
  },
  {
   "cell_type": "code",
   "execution_count": 19,
   "metadata": {},
   "outputs": [
    {
     "name": "stdout",
     "output_type": "stream",
     "text": [
      "f1_scores: [0.9392607881521832, 0.9358264756950219, 0.9328470140674513, 0.9375880384331903, 0.9435542674356965]\n",
      "roc_auc_scores: [0.7409623535277985, 0.8257292445774121, 0.7145350286711544, 0.8270381451009724, 0.7223884318125156]\n"
     ]
    }
   ],
   "source": [
    "k_fold_validation()"
   ]
  },
  {
   "cell_type": "markdown",
   "metadata": {},
   "source": [
    "# Deliver"
   ]
  },
  {
   "cell_type": "code",
   "execution_count": 20,
   "metadata": {},
   "outputs": [
    {
     "data": {
      "text/plain": [
       "0       0.0\n",
       "1       0.0\n",
       "2       0.0\n",
       "3       0.0\n",
       "4       0.0\n",
       "       ... \n",
       "2008    0.0\n",
       "2009    0.0\n",
       "2010    0.0\n",
       "2011    0.0\n",
       "2012    0.0\n",
       "Name: outcome, Length: 2013, dtype: float64"
      ]
     },
     "execution_count": 20,
     "metadata": {},
     "output_type": "execute_result"
    }
   ],
   "source": [
    "X = users_X\n",
    "y = X['outcome']\n",
    "X.pop('outcome')"
   ]
  },
  {
   "cell_type": "code",
   "execution_count": 21,
   "metadata": {},
   "outputs": [
    {
     "data": {
      "text/plain": [
       "RandomForestClassifier(bootstrap=True, class_weight=None, criterion='entropy',\n",
       "                       max_depth=None, max_features=0.4, max_leaf_nodes=None,\n",
       "                       min_impurity_decrease=0.0, min_impurity_split=None,\n",
       "                       min_samples_leaf=1, min_samples_split=2,\n",
       "                       min_weight_fraction_leaf=0.0, n_estimators=200,\n",
       "                       n_jobs=None, oob_score=False, random_state=None,\n",
       "                       verbose=0, warm_start=False)"
      ]
     },
     "execution_count": 21,
     "metadata": {},
     "output_type": "execute_result"
    }
   ],
   "source": [
    "final_model = RandomForestClassifier(n_estimators=200, min_samples_leaf=1, max_features=0.4,criterion='entropy')\n",
    "X_smote, y_smote = rebalance_instance.fit_sample(X, y)\n",
    "final_model.fit(X_smote, y_smote)"
   ]
  },
  {
   "cell_type": "markdown",
   "metadata": {},
   "source": [
    "# Conclusion"
   ]
  },
  {
   "cell_type": "markdown",
   "metadata": {},
   "source": [
    "- RandomForestClassifier performed the best on the dataset\n",
    "- Model predictions have a weighted f1_score of ~0.95 on the validation set"
   ]
  },
  {
   "cell_type": "markdown",
   "metadata": {},
   "source": [
    "#### Take-aways"
   ]
  },
  {
   "cell_type": "markdown",
   "metadata": {},
   "source": [
    "Our model is hard to interpret in terms of important features as the importance of the features seem to changes a lot with the final model chosen. Below listed are few parameters which consistently came out as the importance ones for the model\n",
    "- Count of unique devices, ips and countries that the user have bid from\n",
    "- Average number of bids made per device and ip"
   ]
  },
  {
   "cell_type": "markdown",
   "metadata": {},
   "source": [
    "To be able to put this model into production, there should be 2-step verification process for the robots predicted as there are good number of Humans that are being predicted as Robots"
   ]
  }
 ],
 "metadata": {
  "kernelspec": {
   "display_name": "Python 3",
   "language": "python",
   "name": "python3"
  },
  "language_info": {
   "codemirror_mode": {
    "name": "ipython",
    "version": 3
   },
   "file_extension": ".py",
   "mimetype": "text/x-python",
   "name": "python",
   "nbconvert_exporter": "python",
   "pygments_lexer": "ipython3",
   "version": "3.7.4"
  }
 },
 "nbformat": 4,
 "nbformat_minor": 2
}
